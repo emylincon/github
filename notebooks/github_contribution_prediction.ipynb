{
  "nbformat": 4,
  "nbformat_minor": 0,
  "metadata": {
    "colab": {
      "name": "github_contribution_prediction.ipynb",
      "provenance": [],
      "authorship_tag": "ABX9TyNnFmvTcITn4cOZAF86pniM",
      "include_colab_link": true
    },
    "kernelspec": {
      "name": "python3",
      "display_name": "Python 3"
    },
    "language_info": {
      "name": "python"
    }
  },
  "cells": [
    {
      "cell_type": "markdown",
      "metadata": {
        "id": "view-in-github",
        "colab_type": "text"
      },
      "source": [
        "<a href=\"https://colab.research.google.com/github/emylincon/github/blob/main/github_contribution_prediction.ipynb\" target=\"_parent\"><img src=\"https://colab.research.google.com/assets/colab-badge.svg\" alt=\"Open In Colab\"/></a>"
      ]
    },
    {
      "cell_type": "code",
      "execution_count": 1,
      "metadata": {
        "id": "hpw0U1rTfewq"
      },
      "outputs": [],
      "source": [
        "import numpy as np\n",
        "from sklearn.linear_model import LinearRegression\n",
        "from sklearn.preprocessing import PolynomialFeatures"
      ]
    },
    {
      "cell_type": "code",
      "source": [
        "x = np.array([5, 15, 25, 35, 45, 55]).reshape((-1, 1))\n",
        "y = np.array([15, 11, 2, 8, 25, 32])\n"
      ],
      "metadata": {
        "id": "g7ZmQypnflti"
      },
      "execution_count": 2,
      "outputs": []
    },
    {
      "cell_type": "code",
      "source": [
        "x"
      ],
      "metadata": {
        "colab": {
          "base_uri": "https://localhost:8080/"
        },
        "id": "1S2PE_UUfpCr",
        "outputId": "14abe0de-a9a4-4781-faae-9acdcc522817"
      },
      "execution_count": 3,
      "outputs": [
        {
          "output_type": "execute_result",
          "data": {
            "text/plain": [
              "array([[ 5],\n",
              "       [15],\n",
              "       [25],\n",
              "       [35],\n",
              "       [45],\n",
              "       [55]])"
            ]
          },
          "metadata": {},
          "execution_count": 3
        }
      ]
    },
    {
      "cell_type": "code",
      "source": [
        "transformer = PolynomialFeatures(degree=2, include_bias=False)"
      ],
      "metadata": {
        "id": "PceAipevfuAT"
      },
      "execution_count": 7,
      "outputs": []
    },
    {
      "cell_type": "code",
      "source": [
        "x_ = transformer.fit_transform(x)\n"
      ],
      "metadata": {
        "id": "K-tJlaWpf_mg"
      },
      "execution_count": 8,
      "outputs": []
    },
    {
      "cell_type": "code",
      "source": [
        "x_\n"
      ],
      "metadata": {
        "colab": {
          "base_uri": "https://localhost:8080/"
        },
        "id": "Uw-M_2jagVDP",
        "outputId": "84cf45a7-1656-4f95-b4c5-94b2c866d036"
      },
      "execution_count": 9,
      "outputs": [
        {
          "output_type": "execute_result",
          "data": {
            "text/plain": [
              "array([[   5.,   25.],\n",
              "       [  15.,  225.],\n",
              "       [  25.,  625.],\n",
              "       [  35., 1225.],\n",
              "       [  45., 2025.],\n",
              "       [  55., 3025.]])"
            ]
          },
          "metadata": {},
          "execution_count": 9
        }
      ]
    },
    {
      "cell_type": "code",
      "source": [
        "model = LinearRegression().fit(x_, y)"
      ],
      "metadata": {
        "id": "7Sl0RU3Kgc84"
      },
      "execution_count": 10,
      "outputs": []
    },
    {
      "cell_type": "code",
      "source": [
        "r_sq = model.score(x_, y)\n",
        "print(f\"coefficient of determination: {r_sq}\")\n",
        "\n",
        "\n",
        "print(f\"intercept: {model.intercept_}\")\n",
        "\n",
        "\n",
        "print(f\"coefficients: {model.coef_}\")"
      ],
      "metadata": {
        "colab": {
          "base_uri": "https://localhost:8080/"
        },
        "id": "f0u6YmcshHVC",
        "outputId": "ebe0eeb2-2380-4caf-e21e-edf6ab956f51"
      },
      "execution_count": 11,
      "outputs": [
        {
          "output_type": "stream",
          "name": "stdout",
          "text": [
            "coefficient of determination: 0.8908516262498563\n",
            "intercept: 21.37232142857144\n",
            "coefficients: [-1.32357143  0.02839286]\n"
          ]
        }
      ]
    },
    {
      "cell_type": "code",
      "source": [
        "# class creation\n",
        "class Prep:\n",
        "  def prepx(self, x:list, degree:int, include_bias:bool=False):\n",
        "    if len(np.array(x).shape) == 1:\n",
        "      x = np.array(x).reshape((-1, 1))\n",
        "    transformer = PolynomialFeatures(degree=degree, include_bias=include_bias)\n",
        "    return transformer.fit_transform(x)\n",
        "\n",
        "class Predictor(Prep):\n",
        "  def __init__(self, model, degree: int) -> None:\n",
        "      self.model = model\n",
        "      self.degree = degree\n",
        "\n",
        "  def predict(self, x:list):\n",
        "    x_ = self.prepx(x, self.degree)\n",
        "    return self.model.predict(x_)\n",
        "\n",
        "class Model:\n",
        "  def __init__(self, x, y, degree, model):\n",
        "    self.x = x\n",
        "    self.y = y\n",
        "    self.degree = degree\n",
        "    self.model = model\n",
        "    self.score = self.model.score(self.x, y)\n",
        "\n",
        "class BestModel(Prep):\n",
        "  def __init__(self, x:list, y:list) -> None:\n",
        "      self.x = x\n",
        "      self.y = np.array(y)\n",
        "  \n",
        "  def get_model(self, degree:int):\n",
        "    x_ = self.prepx(self.x, degree)\n",
        "    model = LinearRegression().fit(x_, self.y)\n",
        "    return Model(x_, self.y, degree, model)\n",
        "  \n",
        "  def compute_best_model(self):\n",
        "    models = [self.get_model(i) for i in range(2,10)]\n",
        "    model_scores = {m.degree: m.score for m in models}\n",
        "    print(model_scores)\n",
        "    best = None\n",
        "    for m in models:\n",
        "      if best is None:\n",
        "        best = m\n",
        "        continue\n",
        "      if m.score == best.score:\n",
        "        continue\n",
        "      elif m.score == 1:\n",
        "        break\n",
        "      elif m.score >= 0.95 and best.score >= 0.95:\n",
        "        tmp = {m: m.score, best: best.score}\n",
        "        best = min(tmp, key=tmp.get)\n",
        "      else:\n",
        "        tmp = {m: m.score, best: best.score}\n",
        "        best = max(tmp, key=tmp.get)\n",
        "\n",
        "    print(\"best score =\", best.score, \"degree =\", best.degree)\n",
        "    return Predictor(best.model, best.degree)"
      ],
      "metadata": {
        "id": "qIiQFXCAhMnK"
      },
      "execution_count": 45,
      "outputs": []
    },
    {
      "cell_type": "code",
      "source": [
        "x = [5, 15, 25, 35, 45, 55]\n",
        "y = [5, 20, 14, 32, 22, 38]\n",
        "my_obj = BestModel(x, y)\n",
        "p = my_obj.compute_best_model()\n",
        "p.predict([25])"
      ],
      "metadata": {
        "colab": {
          "base_uri": "https://localhost:8080/"
        },
        "id": "0u4fs_t3uWOH",
        "outputId": "607748b8-b63b-49b2-bb76-cf4844c8debe"
      },
      "execution_count": 47,
      "outputs": [
        {
          "output_type": "stream",
          "name": "stdout",
          "text": [
            "{2: 0.7178963893249607, 3: 0.7665364017947607, 4: 0.770594653573377, 5: 0.9999999999999999, 6: 0.9999999999999264, 7: 1.0, 8: 1.0, 9: 1.0}\n",
            "best score = 0.9999999999999264 degree = 6\n"
          ]
        },
        {
          "output_type": "execute_result",
          "data": {
            "text/plain": [
              "array([13.99999984])"
            ]
          },
          "metadata": {},
          "execution_count": 47
        }
      ]
    },
    {
      "cell_type": "code",
      "source": [
        "x = [\n",
        "  [0, 1], [5, 1], [15, 2], [25, 5], [35, 11], [45, 15], [55, 34], [60, 35]\n",
        "]\n",
        "y = [4, 5, 20, 14, 32, 22, 38, 43]\n",
        "my_obj = BestModel(x, y)\n",
        "p = my_obj.compute_best_model()\n",
        "p.predict([[25, 5]])"
      ],
      "metadata": {
        "colab": {
          "base_uri": "https://localhost:8080/"
        },
        "id": "12Inb0k4u3VG",
        "outputId": "f62a472e-5e9f-46a7-8b9b-90ca6d4cbf80"
      },
      "execution_count": 46,
      "outputs": [
        {
          "output_type": "stream",
          "name": "stdout",
          "text": [
            "{2: 0.9453701449127822, 3: 1.0, 4: 1.0, 5: 1.0, 6: 1.0, 7: 1.0, 8: 0.9999999999999999, 9: 0.9999999999999843}\n",
            "best score = 0.9453701449127822 degree = 2\n"
          ]
        },
        {
          "output_type": "execute_result",
          "data": {
            "text/plain": [
              "array([15.79139])"
            ]
          },
          "metadata": {},
          "execution_count": 46
        }
      ]
    },
    {
      "cell_type": "code",
      "source": [
        ""
      ],
      "metadata": {
        "colab": {
          "base_uri": "https://localhost:8080/"
        },
        "id": "6W8l7oSX2DDS",
        "outputId": "4db5d970-eaae-4f94-dbc5-f31c2ff9ebf6"
      },
      "execution_count": 39,
      "outputs": [
        {
          "output_type": "execute_result",
          "data": {
            "text/plain": [
              "2"
            ]
          },
          "metadata": {},
          "execution_count": 39
        }
      ]
    },
    {
      "cell_type": "code",
      "source": [
        ""
      ],
      "metadata": {
        "id": "0-TC0BACGsGV"
      },
      "execution_count": null,
      "outputs": []
    }
  ]
}